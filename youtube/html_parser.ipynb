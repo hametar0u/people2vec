{
 "cells": [
  {
   "cell_type": "code",
   "execution_count": 2,
   "metadata": {},
   "outputs": [],
   "source": [
    "import re\n",
    "import pandas as pd\n",
    "\n",
    "import os\n",
    "from zipfile import ZipFile\n",
    "import zipfile\n",
    "\n",
    "# Operates on entire folder containing taekout zip files\n",
    "def html_parser(takeout_zip_directory = r'D:\\LAHacks\\takeout_zip_files', csv_directory = \"\"):\n",
    "    html_files = []\n",
    "    # path to folder containing takeout zip files\n",
    "    # takeout_zip_directory = r'D:\\LAHacks\\takeout_zip_files'\n",
    "    for zipped_file in os.listdir(takeout_zip_directory):\n",
    "        zipped_file_path = f'{takeout_zip_directory}/{zipped_file}'\n",
    "        with zipfile.ZipFile(zipped_file_path, 'r') as zip_ref:\n",
    "            # zip_ref.printdir()\n",
    "            # Extract a single file from the archive\n",
    "            zip_ref.extract(r'Takeout/YouTube and YouTube Music/history/watch-history.html')\n",
    "            # Open the file for reading\n",
    "            with open(r'Takeout/YouTube and YouTube Music/history/watch-history.html', 'r', encoding='utf-8') as f:\n",
    "                html = f.read()\n",
    "                html_files.append(html)\n",
    "\n",
    "    for i, html in enumerate(html_files):\n",
    "        results = re.findall('content-cell mdl-cell mdl-cell--6-col mdl-typography--body-1.*?</div>', html)\n",
    "        data = []\n",
    "        for line in results:\n",
    "            try:\n",
    "                link, title, channel, time = re.findall('(https://www\\.youtube\\.com/watch.*?)>(.*?)<.*?https://www.youtube.com/channel.*?\">(.*?)</a><br>(.*?)</div>', line)[0]\n",
    "                video_id = re.findall('/watch\\?v=(.*?)\"$', link)[0]\n",
    "                thumbnail = f'https://img.youtube.com/vi/{video_id}/0.jpg'\n",
    "                screenshot_1 = f'https://img.youtube.com/vi/{video_id}/1.jpg'\n",
    "                screenshot_2 = f'https://img.youtube.com/vi/{video_id}/2.jpg'\n",
    "                screenshot_3 = f'https://img.youtube.com/vi/{video_id}/3.jpg'\n",
    "                data.append([title, channel, time, link, video_id, thumbnail, screenshot_1, screenshot_2, screenshot_3])        \n",
    "            except:\n",
    "                pass\n",
    "        data = pd.DataFrame(data, columns = [\"title\", \"channel\", \"time\", \"link\", 'video_id', 'thumbnail', 'screenshot_1', 'screenshot_2', 'screenshot_3'])\n",
    "        \n",
    "        if csv_directory != \"\":\n",
    "            data.to_csv(f\"{csv_directory}/parsed_watch_history_{i}.tsv\", index = None, sep='\\t')\n",
    "        else:\n",
    "            data.to_csv(f\"parsed_watch_history_{i}.tsv\", index = None, sep='\\t')\n",
    "\n",
    "# straight html to .tsv \n",
    "def direct_html_parser(html_path):\n",
    "    with open(html_path, 'r', encoding='utf-8') as f:\n",
    "        html = f.read()\n",
    "    results = re.findall('content-cell mdl-cell mdl-cell--6-col mdl-typography--body-1.*?</div>', html)\n",
    "    data = []\n",
    "    for line in results:\n",
    "        try:\n",
    "            link, title, channel, time = re.findall('(https://www\\.youtube\\.com/watch.*?)>(.*?)<.*?https://www.youtube.com/channel.*?\">(.*?)</a><br>(.*?)</div>', line)[0]\n",
    "            video_id = re.findall('/watch\\?v=(.*?)\"$', link)[0]\n",
    "            thumbnail = f'https://img.youtube.com/vi/{video_id}/0.jpg'\n",
    "            screenshot_1 = f'https://img.youtube.com/vi/{video_id}/1.jpg'\n",
    "            screenshot_2 = f'https://img.youtube.com/vi/{video_id}/2.jpg'\n",
    "            screenshot_3 = f'https://img.youtube.com/vi/{video_id}/3.jpg'\n",
    "            data.append([title, channel, time, link, video_id, thumbnail, screenshot_1, screenshot_2, screenshot_3])        \n",
    "        except:\n",
    "            pass\n",
    "    data = pd.DataFrame(data, columns = [\"title\", \"channel\", \"time\", \"link\", 'video_id', 'thumbnail', 'screenshot_1', 'screenshot_2', 'screenshot_3'])\n",
    "    data.to_csv(f\"parsed_watch_history.tsv\", index = None, sep='\\t')\n"
   ]
  },
  {
   "cell_type": "code",
   "execution_count": 4,
   "metadata": {},
   "outputs": [],
   "source": [
    "html_parser(r'D:\\LAHacks\\people2vec\\youtube\\takeout_zip_files')"
   ]
  },
  {
   "cell_type": "code",
   "execution_count": 6,
   "metadata": {},
   "outputs": [],
   "source": [
    "data = direct_html_parser(r'./watch-history.html')\n"
   ]
  },
  {
   "cell_type": "code",
   "execution_count": 7,
   "metadata": {},
   "outputs": [
    {
     "ename": "AttributeError",
     "evalue": "'NoneType' object has no attribute 'shape'",
     "output_type": "error",
     "traceback": [
      "\u001b[1;31m---------------------------------------------------------------------------\u001b[0m",
      "\u001b[1;31mAttributeError\u001b[0m                            Traceback (most recent call last)",
      "Cell \u001b[1;32mIn[7], line 1\u001b[0m\n\u001b[1;32m----> 1\u001b[0m data\u001b[39m.\u001b[39;49mshape\n",
      "\u001b[1;31mAttributeError\u001b[0m: 'NoneType' object has no attribute 'shape'"
     ]
    }
   ],
   "source": [
    "data.shape"
   ]
  },
  {
   "cell_type": "code",
   "execution_count": 15,
   "metadata": {},
   "outputs": [],
   "source": [
    "# import os\n",
    "# from zipfile import ZipFile\n",
    "\n",
    "# takeout_zip_directory = r'D:\\LAHacks\\takeout_zip_files'\n",
    "# for zipped_file in os.listdir(takeout_zip_directory):\n",
    "#     zipped_file_path = f'{takeout_zip_directory}/{zipped_file}'\n",
    "#     unzipped_folder = ZipFile(takeout_zip_directory, 'r')\n",
    "#     print(unzipped_folder)\n",
    "\n",
    "\n",
    "# address = r'D:\\LAHacks\\takeout-20230420T040628Z-001\\Takeout\\YouTube and YouTube Music\\history\\watch-history.html'\n",
    "# address = r'D:\\LAHacks\\takeout-20230422T051321Z-001\\Takeout\\YouTube and YouTube Music\\history\\watch-history.html'\n",
    "# address = r'D:\\LAHacks\\takeout-20230422T065323Z-001\\Takeout\\YouTube and YouTube Music\\history\\watch-history.html'\n",
    "# with open(address, 'r', encoding='utf-8') as f:\n",
    "#     html = f.read()\n",
    "\n",
    "# with zip_ref.open(r'Takeout/YouTube and YouTube Music/history/watch-history.html', mode = \"r\") as file:\n",
    "        #     # Read the contents of the file\n",
    "        #     contents = file.read()\n",
    "        #     html_files.append(contents)"
   ]
  }
 ],
 "metadata": {
  "kernelspec": {
   "display_name": "base",
   "language": "python",
   "name": "python3"
  },
  "language_info": {
   "codemirror_mode": {
    "name": "ipython",
    "version": 3
   },
   "file_extension": ".py",
   "mimetype": "text/x-python",
   "name": "python",
   "nbconvert_exporter": "python",
   "pygments_lexer": "ipython3",
   "version": "3.9.16"
  },
  "orig_nbformat": 4
 },
 "nbformat": 4,
 "nbformat_minor": 2
}
