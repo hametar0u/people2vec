{
 "cells": [
  {
   "cell_type": "code",
   "execution_count": 35,
   "metadata": {},
   "outputs": [],
   "source": [
    "import selenium\n",
    "from bs4 import BeautifulSoup"
   ]
  },
  {
   "cell_type": "code",
   "execution_count": 42,
   "metadata": {},
   "outputs": [],
   "source": [
    "# address = r'D:\\LAHacks\\takeout-20230420T040628Z-001\\Takeout\\YouTube and YouTube Music\\history\\watch-history.html'\n",
    "address = r'D:\\LAHacks\\takeout-20230420T040628Z-001_prateik\\Takeout\\YouTube and YouTube Music\\history\\watch-history.html'\n",
    "with open(address, 'r', encoding='utf-8') as f:\n",
    "    html = f.read()\n",
    "import re\n",
    "import pandas as pd\n",
    "results = re.findall('content-cell mdl-cell mdl-cell--6-col mdl-typography--body-1.*?</div>', html)\n",
    "data = []\n",
    "for line in results:\n",
    "    try:\n",
    "        link, title, channel, time = re.findall('(https://www\\.youtube\\.com/watch.*?)>(.*?)<.*?https://www.youtube.com/channel.*?\">(.*?)</a><br>(.*?)</div>', line)[0]\n",
    "        # thumbnail = re.findall('/watch\\?v=(.*?)$', link)\n",
    "        # print(link)\n",
    "        # print(thumbnail)\n",
    "        # data.append([title, channel, time, link, thumbnail])\n",
    "        data.append([title, channel, time, link])\n",
    "        \n",
    "    except:\n",
    "        pass\n",
    "data = pd.DataFrame(data, columns = [\"title\", \"channel\", \"time\", \"link\"])\n"
   ]
  },
  {
   "cell_type": "code",
   "execution_count": 43,
   "metadata": {},
   "outputs": [
    {
     "data": {
      "text/html": [
       "<div>\n",
       "<style scoped>\n",
       "    .dataframe tbody tr th:only-of-type {\n",
       "        vertical-align: middle;\n",
       "    }\n",
       "\n",
       "    .dataframe tbody tr th {\n",
       "        vertical-align: top;\n",
       "    }\n",
       "\n",
       "    .dataframe thead th {\n",
       "        text-align: right;\n",
       "    }\n",
       "</style>\n",
       "<table border=\"1\" class=\"dataframe\">\n",
       "  <thead>\n",
       "    <tr style=\"text-align: right;\">\n",
       "      <th></th>\n",
       "      <th>title</th>\n",
       "      <th>channel</th>\n",
       "      <th>time</th>\n",
       "      <th>link</th>\n",
       "    </tr>\n",
       "  </thead>\n",
       "  <tbody>\n",
       "    <tr>\n",
       "      <th>0</th>\n",
       "      <td>How to Copy All The Titles And URLs From YouTube</td>\n",
       "      <td>Verdant Official (Tech Solution Company)</td>\n",
       "      <td>19 Apr 2023, 20:58:07 GMT-07:00</td>\n",
       "      <td>https://www.youtube.com/watch?v=q4aF_UKg1ck\"</td>\n",
       "    </tr>\n",
       "    <tr>\n",
       "      <th>1</th>\n",
       "      <td>Nintendo Just Got Even Worse</td>\n",
       "      <td>penguinz0</td>\n",
       "      <td>19 Apr 2023, 20:56:14 GMT-07:00</td>\n",
       "      <td>https://www.youtube.com/watch?v=g8oPQUyQ2tc\"</td>\n",
       "    </tr>\n",
       "    <tr>\n",
       "      <th>2</th>\n",
       "      <td>Kanye West - Billie Jean (AI Cover)</td>\n",
       "      <td>PluggingAI</td>\n",
       "      <td>19 Apr 2023, 17:33:22 GMT-07:00</td>\n",
       "      <td>https://www.youtube.com/watch?v=CTgUPyxFoyk\"</td>\n",
       "    </tr>\n",
       "    <tr>\n",
       "      <th>3</th>\n",
       "      <td>The Weeknd AI - NO IDEA by Don Toliver (AI COVER)</td>\n",
       "      <td>DonDIEGO</td>\n",
       "      <td>19 Apr 2023, 17:32:42 GMT-07:00</td>\n",
       "      <td>https://www.youtube.com/watch?v=0lt-jlhggvU\"</td>\n",
       "    </tr>\n",
       "    <tr>\n",
       "      <th>4</th>\n",
       "      <td>Hey There Delilah but it&amp;#39;s Kanye&amp;#39;s Voi...</td>\n",
       "      <td>YeezyBeaver</td>\n",
       "      <td>19 Apr 2023, 17:31:49 GMT-07:00</td>\n",
       "      <td>https://www.youtube.com/watch?v=-9Ado8D3A-w\"</td>\n",
       "    </tr>\n",
       "  </tbody>\n",
       "</table>\n",
       "</div>"
      ],
      "text/plain": [
       "                                               title  \\\n",
       "0   How to Copy All The Titles And URLs From YouTube   \n",
       "1                       Nintendo Just Got Even Worse   \n",
       "2                Kanye West - Billie Jean (AI Cover)   \n",
       "3  The Weeknd AI - NO IDEA by Don Toliver (AI COVER)   \n",
       "4  Hey There Delilah but it&#39;s Kanye&#39;s Voi...   \n",
       "\n",
       "                                    channel                             time  \\\n",
       "0  Verdant Official (Tech Solution Company)  19 Apr 2023, 20:58:07 GMT-07:00   \n",
       "1                                 penguinz0  19 Apr 2023, 20:56:14 GMT-07:00   \n",
       "2                                PluggingAI  19 Apr 2023, 17:33:22 GMT-07:00   \n",
       "3                                  DonDIEGO  19 Apr 2023, 17:32:42 GMT-07:00   \n",
       "4                               YeezyBeaver  19 Apr 2023, 17:31:49 GMT-07:00   \n",
       "\n",
       "                                           link  \n",
       "0  https://www.youtube.com/watch?v=q4aF_UKg1ck\"  \n",
       "1  https://www.youtube.com/watch?v=g8oPQUyQ2tc\"  \n",
       "2  https://www.youtube.com/watch?v=CTgUPyxFoyk\"  \n",
       "3  https://www.youtube.com/watch?v=0lt-jlhggvU\"  \n",
       "4  https://www.youtube.com/watch?v=-9Ado8D3A-w\"  "
      ]
     },
     "execution_count": 43,
     "metadata": {},
     "output_type": "execute_result"
    }
   ],
   "source": [
    "data.head()\n",
    "# https://img.youtube.com/vi/i4EFkspO5p4/0.jpg\n",
    "\n",
    "# add thumbnail\n",
    "# add description"
   ]
  },
  {
   "cell_type": "code",
   "execution_count": 44,
   "metadata": {},
   "outputs": [],
   "source": [
    "data.to_csv(\"prateik.tsv\", index = None, sep='\\t')"
   ]
  }
 ],
 "metadata": {
  "kernelspec": {
   "display_name": "base",
   "language": "python",
   "name": "python3"
  },
  "language_info": {
   "codemirror_mode": {
    "name": "ipython",
    "version": 3
   },
   "file_extension": ".py",
   "mimetype": "text/x-python",
   "name": "python",
   "nbconvert_exporter": "python",
   "pygments_lexer": "ipython3",
   "version": "3.9.16"
  },
  "orig_nbformat": 4
 },
 "nbformat": 4,
 "nbformat_minor": 2
}
